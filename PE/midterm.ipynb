{
 "cells": [
  {
   "cell_type": "markdown",
   "id": "0ac98537",
   "metadata": {},
   "source": [
    "%%html\n",
    "<style>\n",
    "    .exercise {\n",
    "        background-color: #AFEEEE;\n",
    "        font-style: normal;\n",
    "        text-align: justify;\n",
    "        margin-left: 0px;\n",
    "        margin-right: 10px;\n",
    "        margin-top: 10px;\n",
    "        margin-bottom: 0px;\n",
    "        display: block;\n",
    "    }\n",
    "</style>"
   ]
  },
  {
   "cell_type": "markdown",
   "id": "01c6a0a9",
   "metadata": {},
   "source": [
    "\n",
    "<center style=\"font-size:25px;padding-bottom:10px;\">Midterm - Procesos Estocásticos</center>\n",
    "<center style=\"font-size:20px;padding-bottom:10px;\">Máster en Ciencia de Datos -  Universidad Autónoma de Madrid</center>\n",
    "<center style=\"font-size:20px;padding-bottom:10px;\">José Antonio Álvarez Ocete</center>"
   ]
  },
  {
   "cell_type": "code",
   "execution_count": 50,
   "id": "77f91b10",
   "metadata": {},
   "outputs": [],
   "source": [
    "import matplotlib.pyplot as plt\n",
    "import numpy as np\n",
    "from scipy import optimize\n",
    "import random"
   ]
  },
  {
   "cell_type": "markdown",
   "id": "be16c91c",
   "metadata": {},
   "source": [
    "<div class=\"exercise\">\n",
    "<h1>Enunciado</h1>\n",
    "\n",
    "Consideremos la siguente cadena de Markov:\n",
    "\n",
    "TODO: FIGURE\n",
    "\n",
    "(se asuma que en cada estado hay una flecha hasta el mismo estado que hace que la suma de las\n",
    "probabilidades en salida sea 1), con $p = 0.3$.\n",
    "\n",
    "$i)$ Determinar la matriz de transición de la cadena.\n",
    "</div>"
   ]
  },
  {
   "cell_type": "markdown",
   "id": "ee59f97e",
   "metadata": {},
   "source": [
    "Obtenemos la matriz de transición consultando el grafo anterior y colocando en la posición $i,j$ la probabilidad de transición del estado $i$ al $j$. En la diagonal colocamos la probabilidad de mantenernos en el estado $i,i$, siendo esta $1$ menos las la suma de las probabilidades de salir de dicho estado.\n",
    "\n",
    "$$\n",
    "    P = \n",
    "    \\begin{pmatrix}\n",
    "        1-p & p & 0 & 0 & 0 & 0 \\\\\n",
    "        0 & 1-p & p/2 & 0 & p/2 & 0 & \\\\\n",
    "        1/4 & 0 & 1/4 & 1/4 & 1/4 & 0 \\\\\n",
    "        q & 0 & 0 & 0.9-q & 0.1 & 0 \\\\\n",
    "        0 & 0 & 0 & 0 & 1/2 & 1/2 \\\\\n",
    "        0 & 0 & 0 & 1/4 & 1/2 & 1/4\n",
    "    \\end{pmatrix}\n",
    "$$\n",
    "\n",
    "Como medida de comprobación podemos asegurarnos de que todas las filas sumen $1$, como hacen."
   ]
  },
  {
   "cell_type": "markdown",
   "id": "73c94ce5",
   "metadata": {},
   "source": [
    "<div class=\"exercise\">\n",
    "\n",
    "$ii)$ Simular el funcionamiento de la cadena y hacer una estimación de conjunto de $h_0^2$ y $h_0^5$ para $q = 0.1$ y $q = 0$.\n",
    "</div>"
   ]
  },
  {
   "cell_type": "markdown",
   "id": "cc7c7482",
   "metadata": {},
   "source": [
    "TODO: explicación"
   ]
  },
  {
   "cell_type": "code",
   "execution_count": 6,
   "id": "d9b6a108",
   "metadata": {},
   "outputs": [],
   "source": [
    "def get_P(p, q):\n",
    "    return np.array([[  1-p,    p,    0.0,    0.0,    0.0,    0.0],\n",
    "                    [  0.0,  1-p,  p/2.0,    0.0,   p/2.0,   0.0],\n",
    "                    [1/4.0,  0.0,  1/4.0,   1/4.0,  1/4.0,   0.0],\n",
    "                    [    q,  0.0,    0.0, 1-q-0.1,    0.1,   0.0],\n",
    "                    [  0.0,  0.0,    0.0,     0.0,  1/2.0, 1/2.0],\n",
    "                    [  0.0,  0.0,    0.0,    1/4.0, 1/2.0, 1/4.0]\n",
    "                    ])\n",
    "\n",
    "def collapse(state):\n",
    "    \"\"\"\n",
    "        Given a state, collapses it to a single position\n",
    "        with the given probabilities in the state. For example, given:\n",
    "            state = [1/3, 2/3]\n",
    "        collapse(state) will output:\n",
    "        - [1, 0] with probability 1/3\n",
    "        - [0, 1] with probability 2/3\n",
    "    \"\"\"\n",
    "    F_n = np.cumsum(state)\n",
    "    F_n = np.insert(F_n, 0, 0, axis=0)\n",
    "    r = random.uniform(0, 1)\n",
    "    collapsed = np.zeros(len(state))\n",
    "    for i, (x1, x2) in enumerate(zip(F_n[:-1], F_n[1:])):\n",
    "        if r > x1 and r < x2:\n",
    "            collapsed[i] = 1\n",
    "    return collapsed\n",
    "\n",
    "def simulate_H(from_m, to_m, P, steps=10**3):\n",
    "    \"\"\"\n",
    "        Simulate a single random walk through the markov chain\n",
    "        described by P and compute the first hitting time from_m to_m.\n",
    "\n",
    "        Returns either a natural number if to_m was reached in that time,\n",
    "        or -1 if to_m was never reached.\n",
    "    \"\"\"\n",
    "    if from_m == to_m:\n",
    "        return 0\n",
    "\n",
    "    state = np.zeros(len(P[0]))\n",
    "    state[from_m] = 1\n",
    "\n",
    "    for step in range(1, steps+1):\n",
    "        state = collapse(state @ P)\n",
    "        if state[to_m] == 1:\n",
    "            return step\n",
    "    return -1\n",
    "\n",
    "def simulate_h(from_m, to_m, P, steps=10**3, n_random_walks=10**3):\n",
    "    \"\"\"\n",
    "        Simulate `n_random_walks` random walks through the markov chain\n",
    "        described by P and estimate the hitting from_m to_m.\n",
    "\n",
    "        Returns the estimation of the probability of hitting from_m\n",
    "        to_m in `steps` steps.\n",
    "    \"\"\"\n",
    "    total_hits = 0\n",
    "    for _ in range(n_random_walks):\n",
    "        total_hits += 1 + min(0, simulate_H(from_m=from_m, to_m=to_m, P=P, steps=steps))\n",
    "    return total_hits / n_random_walks\n",
    "\n",
    "def simulate_h_specific(from_m, to_m, p=0.3, q=0.1, steps=10**3, n_random_walks=10**3):\n",
    "    P = get_P(p, q)\n",
    "    prob = simulate_h(from_m=from_m, to_m=to_m, P=P, steps=steps, n_random_walks=n_random_walks)\n",
    "    print('(q={}) - Simulated h{}{} = {}'.format(q, from_m, to_m, prob))"
   ]
  },
  {
   "cell_type": "code",
   "execution_count": 7,
   "id": "5d1189f3",
   "metadata": {},
   "outputs": [
    {
     "name": "stdout",
     "output_type": "stream",
     "text": [
      "(q=0.1) - Simulated h_0^2 = 1.0\n",
      "(q=0.1) - Simulated h_0^5 = 1.0\n",
      "(q=0) - Simulated h_0^2 = 0.497\n",
      "(q=0) - Simulated h_0^5 = 1.0\n"
     ]
    }
   ],
   "source": [
    "random.seed(123)\n",
    "simulate_h_specific(from_m=0, to_m=2, q=0.1)\n",
    "simulate_h_specific(from_m=0, to_m=5, q=0.1)\n",
    "simulate_h_specific(from_m=0, to_m=2, q=0)\n",
    "simulate_h_specific(from_m=0, to_m=5, q=0)"
   ]
  },
  {
   "cell_type": "markdown",
   "id": "6773fe5b",
   "metadata": {},
   "source": [
    "<div class=\"exercise\">\n",
    "\n",
    "$iii)$ Simular el funcionamiento de la cadena y hacer una estimación de conjunto de $k_0^2$ y $k_4^2$ para $q = 0.1$ y $q = 0$.\n",
    "</div>"
   ]
  },
  {
   "cell_type": "code",
   "execution_count": 61,
   "id": "0e53495d",
   "metadata": {},
   "outputs": [],
   "source": [
    "def simulate_k(from_m, to_m, P, steps=10**3, n_random_walks=10**3):\n",
    "    \"\"\"\n",
    "        Simulate `n_random_walks` random walks through the markov chain\n",
    "        described by P and estimate the mean hitting from_m to_m.\n",
    "\n",
    "        Returns the estimation of the mean hittim time from_m to_m in `steps` steps.\n",
    "        If any of the random walks didn't reach to_m, -1 is returned, meaning\n",
    "        the expected time is infinite.\n",
    "    \"\"\"\n",
    "    Hs = [ simulate_H(from_m=from_m, to_m=to_m, P=P, steps=steps) for _ in range(n_random_walks) ]\n",
    "    return -1 if -1 in Hs else np.mean(Hs)\n",
    "\n",
    "def simulate_k_specific(from_m, to_m, p=0.3, q=0.1, steps=10**3, n_random_walks=10**3):\n",
    "    P = get_P(p, q)\n",
    "    prob = simulate_k(from_m=from_m, to_m=to_m, P=P, steps=steps, n_random_walks=n_random_walks)\n",
    "    print('(q={}) - Simulated k{}{} = {}'.format(q, from_m, to_m, prob))"
   ]
  },
  {
   "cell_type": "code",
   "execution_count": 16,
   "id": "d0e5b8bc",
   "metadata": {},
   "outputs": [
    {
     "name": "stdout",
     "output_type": "stream",
     "text": [
      "(q=0.1) - Simulated k_0^2 = 43.115\n",
      "(q=0.1) - Simulated k_4^2 = 74.366\n",
      "(q=0) - Simulated k_0^2 = -1\n",
      "(q=0) - Simulated k_4^2 = -1\n"
     ]
    }
   ],
   "source": [
    "simulate_k_specific(from_m=0, to_m=2, q=0.1)\n",
    "simulate_k_specific(from_m=4, to_m=2, q=0.1)\n",
    "simulate_k_specific(from_m=0, to_m=2, q=0)\n",
    "simulate_k_specific(from_m=4, to_m=2, q=0)"
   ]
  },
  {
   "cell_type": "markdown",
   "id": "990a091c",
   "metadata": {},
   "source": [
    "<div class=\"exercise\">\n",
    "\n",
    "$iv)$ Usar el sistema de ecuaciones lineares oportuno para determinar los valores teóricos correspondientes a las cantidades estimadas y comparar con los valores determinados por medio de la simulación.\n",
    "\n",
    "Nota: si una cantidad $k$ es $\\infty$ la simulación claramente no puede dar su valor real. Discutir este caso.\n",
    "</div>"
   ]
  },
  {
   "cell_type": "code",
   "execution_count": 92,
   "id": "062bde0c",
   "metadata": {},
   "outputs": [],
   "source": [
    "def theoretical_h(P, to_m):\n",
    "    n = len(P[0])\n",
    "    A = P - np.identity(n)\n",
    "    b = np.zeros(n)\n",
    "    b[to_m] = 1\n",
    "    A[to_m] = b\n",
    "    \n",
    "    return optimize.nnls(A, b)[0]\n",
    "\n",
    "def theorical_h_specific(from_m, to_m, p=0.3, q=0.1):\n",
    "    P = get_P(p, q)\n",
    "    result = theoretical_h(P, to_m)\n",
    "    print('(q={}) - Theoretical h{}{} = {}'.format(q, from_m, to_m, result[from_m]))"
   ]
  },
  {
   "cell_type": "code",
   "execution_count": 93,
   "id": "d2870816",
   "metadata": {},
   "outputs": [
    {
     "name": "stdout",
     "output_type": "stream",
     "text": [
      "(q=0.1) - Theoretical h02 = 1.0000000000000007\n",
      "(q=0.1) - Theoretical h05 = 0.9999999999999981\n",
      "(q=0) - Theoretical h02 = 0.5\n",
      "(q=0) - Theoretical h05 = 0.9999999999999986\n"
     ]
    }
   ],
   "source": [
    "theorical_h_specific(from_m=0, to_m=2, q=0.1)\n",
    "theorical_h_specific(from_m=0, to_m=5, q=0.1)\n",
    "theorical_h_specific(from_m=0, to_m=2, q=0)\n",
    "theorical_h_specific(from_m=0, to_m=5, q=0)"
   ]
  },
  {
   "cell_type": "code",
   "execution_count": 95,
   "id": "615ac668",
   "metadata": {},
   "outputs": [],
   "source": [
    "def theoretical_k(P, to_m):\n",
    "    n = len(P[0])\n",
    "    A = np.identity(n) - P\n",
    "    b = np.ones(n)\n",
    "    b[to_m] = 0\n",
    "    A[to_m] = np.logical_not(b)\n",
    "    return optimize.nnls(A, b)[0]\n",
    "\n",
    "def theorical_k_specific(from_m, to_m, p=0.3, q=0.1):\n",
    "    P = get_P(p, q)\n",
    "    result = theoretical_k(P, to_m)\n",
    "    print('(q={}) - Theoretical k{}{} = {}'.format(q, from_m, to_m, result[from_m]))"
   ]
  },
  {
   "cell_type": "code",
   "execution_count": 96,
   "id": "21b1826e",
   "metadata": {},
   "outputs": [
    {
     "name": "stdout",
     "output_type": "stream",
     "text": [
      "(q=0.1) - Theoretical k02 = 43.33333333333339\n",
      "(q=0.1) - Theoretical k05 = 12.888888888888886\n",
      "(q=0) - Theoretical k02 = 8.245614035087716\n",
      "(q=0) - Theoretical k05 = 12.799999999999994\n"
     ]
    }
   ],
   "source": [
    "theorical_k_specific(from_m=0, to_m=2, q=0.1)\n",
    "theorical_k_specific(from_m=0, to_m=5, q=0.1)\n",
    "theorical_k_specific(from_m=0, to_m=2, q=0)\n",
    "theorical_k_specific(from_m=0, to_m=5, q=0)"
   ]
  },
  {
   "cell_type": "markdown",
   "id": "cd24c05a",
   "metadata": {},
   "source": [
    "<div class=\"exercise\">\n",
    "\n",
    "$v)$ Para el caso $q = 0.1$, dibujar el grafico de $g(t) = P[H_0^{\\{4\\}} = t]$\n",
    "</div>\n"
   ]
  },
  {
   "cell_type": "markdown",
   "id": "609772b6",
   "metadata": {},
   "source": [
    "<div class=\"exercise\">\n",
    "\n",
    "$vi)$ Razonar si $H_0^{\\{4\\}} , H_0^{\\{5\\}}$.\n",
    "</div>"
   ]
  }
 ],
 "metadata": {
  "interpreter": {
   "hash": "327d94c82653bcbf1591f046bfaa83bb7ace16fe227fc7b230f02edc918e6ba7"
  },
  "kernelspec": {
   "display_name": "Python 3",
   "language": "python",
   "name": "python3"
  },
  "language_info": {
   "codemirror_mode": {
    "name": "ipython",
    "version": 3
   },
   "file_extension": ".py",
   "mimetype": "text/x-python",
   "name": "python",
   "nbconvert_exporter": "python",
   "pygments_lexer": "ipython3",
   "version": "3.7.0"
  }
 },
 "nbformat": 4,
 "nbformat_minor": 5
}
