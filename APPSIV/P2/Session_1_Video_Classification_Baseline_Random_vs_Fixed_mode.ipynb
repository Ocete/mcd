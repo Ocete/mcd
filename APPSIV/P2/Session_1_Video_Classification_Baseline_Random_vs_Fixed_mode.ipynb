{
 "cells": [
  {
   "cell_type": "code",
   "execution_count": 3,
   "metadata": {
    "id": "TVeyWHx_HUG5"
   },
   "outputs": [
    {
     "ename": "ModuleNotFoundError",
     "evalue": "No module named 'google.colab'",
     "output_type": "error",
     "traceback": [
      "\u001b[1;31m---------------------------------------------------------------------------\u001b[0m",
      "\u001b[1;31mModuleNotFoundError\u001b[0m                       Traceback (most recent call last)",
      "\u001b[1;32m~\\AppData\\Local\\Temp/ipykernel_11316/1408506528.py\u001b[0m in \u001b[0;36m<module>\u001b[1;34m\u001b[0m\n\u001b[1;32m----> 1\u001b[1;33m \u001b[1;32mfrom\u001b[0m \u001b[0mgoogle\u001b[0m\u001b[1;33m.\u001b[0m\u001b[0mcolab\u001b[0m \u001b[1;32mimport\u001b[0m \u001b[0mdrive\u001b[0m\u001b[1;33m\u001b[0m\u001b[0m\n\u001b[0m\u001b[0;32m      2\u001b[0m \u001b[0mdrive\u001b[0m\u001b[1;33m.\u001b[0m\u001b[0mmount\u001b[0m\u001b[1;33m(\u001b[0m\u001b[1;34m'/content/drive'\u001b[0m\u001b[1;33m)\u001b[0m\u001b[1;33m\u001b[0m\u001b[0m\n",
      "\u001b[1;31mModuleNotFoundError\u001b[0m: No module named 'google.colab'"
     ]
    }
   ],
   "source": [
    "from google.colab import drive\n",
    "drive.mount('/content/drive')"
   ]
  },
  {
   "cell_type": "code",
   "execution_count": 4,
   "metadata": {},
   "outputs": [
    {
     "name": "stdout",
     "output_type": "stream",
     "text": [
      "Collecting google.colab\n",
      "  Downloading google-colab-1.0.0.tar.gz (72 kB)\n",
      "     ---------------------------------------- 72.9/72.9 KB 1.3 MB/s eta 0:00:00\n",
      "  Preparing metadata (setup.py): started\n",
      "  Preparing metadata (setup.py): finished with status 'done'\n",
      "Collecting google-auth~=1.4.0\n",
      "  Downloading google_auth-1.4.2-py2.py3-none-any.whl (64 kB)\n",
      "     ---------------------------------------- 64.2/64.2 KB 3.4 MB/s eta 0:00:00\n",
      "Collecting ipykernel~=4.6.0\n",
      "  Downloading ipykernel-4.6.1-py3-none-any.whl (104 kB)\n",
      "     -------------------------------------- 104.5/104.5 KB 5.9 MB/s eta 0:00:00\n",
      "Collecting ipython~=5.5.0\n",
      "  Downloading ipython-5.5.0-py3-none-any.whl (758 kB)\n",
      "     ------------------------------------- 758.9/758.9 KB 11.9 MB/s eta 0:00:00\n",
      "Collecting notebook~=5.2.0\n",
      "  Downloading notebook-5.2.2-py2.py3-none-any.whl (8.0 MB)\n",
      "     ---------------------------------------- 8.0/8.0 MB 23.4 MB/s eta 0:00:00\n",
      "Collecting six~=1.12.0\n",
      "  Downloading six-1.12.0-py2.py3-none-any.whl (10 kB)\n",
      "Collecting pandas~=0.24.0\n",
      "  Downloading pandas-0.24.2-cp37-cp37m-win_amd64.whl (9.0 MB)\n",
      "     ---------------------------------------- 9.0/9.0 MB 35.8 MB/s eta 0:00:00\n",
      "Collecting portpicker~=1.2.0\n",
      "  Downloading portpicker-1.2.0.tar.gz (17 kB)\n",
      "  Preparing metadata (setup.py): started\n",
      "  Preparing metadata (setup.py): finished with status 'done'\n",
      "Collecting requests~=2.21.0\n",
      "  Downloading requests-2.21.0-py2.py3-none-any.whl (57 kB)\n",
      "     ---------------------------------------- 58.0/58.0 KB 3.0 MB/s eta 0:00:00\n",
      "Collecting tornado~=4.5.0\n",
      "  Downloading tornado-4.5.3.tar.gz (484 kB)\n",
      "     ------------------------------------- 484.2/484.2 KB 29.6 MB/s eta 0:00:00\n",
      "  Preparing metadata (setup.py): started\n",
      "  Preparing metadata (setup.py): finished with status 'done'\n",
      "Requirement already satisfied: cachetools>=2.0.0 in c:\\users\\jose\\appdata\\local\\programs\\python\\python37\\lib\\site-packages (from google-auth~=1.4.0->google.colab) (4.2.4)\n",
      "Requirement already satisfied: pyasn1-modules>=0.2.1 in c:\\users\\jose\\appdata\\local\\programs\\python\\python37\\lib\\site-packages (from google-auth~=1.4.0->google.colab) (0.2.8)\n",
      "Requirement already satisfied: rsa>=3.1.4 in c:\\users\\jose\\appdata\\local\\programs\\python\\python37\\lib\\site-packages (from google-auth~=1.4.0->google.colab) (4.7.2)\n",
      "Requirement already satisfied: traitlets>=4.1.0 in c:\\users\\jose\\appdata\\local\\programs\\python\\python37\\lib\\site-packages (from ipykernel~=4.6.0->google.colab) (5.1.1)\n",
      "Requirement already satisfied: jupyter-client in c:\\users\\jose\\appdata\\local\\programs\\python\\python37\\lib\\site-packages (from ipykernel~=4.6.0->google.colab) (7.0.6)\n",
      "Requirement already satisfied: pygments in c:\\users\\jose\\appdata\\local\\programs\\python\\python37\\lib\\site-packages (from ipython~=5.5.0->google.colab) (2.10.0)\n",
      "Requirement already satisfied: setuptools>=18.5 in c:\\users\\jose\\appdata\\local\\programs\\python\\python37\\lib\\site-packages (from ipython~=5.5.0->google.colab) (58.5.2)\n",
      "Requirement already satisfied: decorator in c:\\users\\jose\\appdata\\local\\programs\\python\\python37\\lib\\site-packages (from ipython~=5.5.0->google.colab) (5.1.0)\n",
      "Collecting simplegeneric>0.8\n",
      "  Downloading simplegeneric-0.8.1.zip (12 kB)\n",
      "  Preparing metadata (setup.py): started\n",
      "  Preparing metadata (setup.py): finished with status 'done'\n",
      "Requirement already satisfied: colorama in c:\\users\\jose\\appdata\\local\\programs\\python\\python37\\lib\\site-packages (from ipython~=5.5.0->google.colab) (0.4.4)\n",
      "Requirement already satisfied: pickleshare in c:\\users\\jose\\appdata\\local\\programs\\python\\python37\\lib\\site-packages (from ipython~=5.5.0->google.colab) (0.7.5)\n",
      "Collecting prompt-toolkit<2.0.0,>=1.0.4\n",
      "  Downloading prompt_toolkit-1.0.18-py3-none-any.whl (245 kB)\n",
      "     ------------------------------------- 245.4/245.4 KB 15.7 MB/s eta 0:00:00\n",
      "Requirement already satisfied: nbconvert in c:\\users\\jose\\appdata\\local\\programs\\python\\python37\\lib\\site-packages (from notebook~=5.2.0->google.colab) (6.3.0)\n",
      "Requirement already satisfied: nbformat in c:\\users\\jose\\appdata\\local\\programs\\python\\python37\\lib\\site-packages (from notebook~=5.2.0->google.colab) (5.1.3)\n",
      "Requirement already satisfied: jinja2 in c:\\users\\jose\\appdata\\local\\programs\\python\\python37\\lib\\site-packages (from notebook~=5.2.0->google.colab) (3.0.3)\n",
      "Requirement already satisfied: ipython-genutils in c:\\users\\jose\\appdata\\local\\programs\\python\\python37\\lib\\site-packages (from notebook~=5.2.0->google.colab) (0.2.0)\n",
      "Requirement already satisfied: jupyter-core in c:\\users\\jose\\appdata\\local\\programs\\python\\python37\\lib\\site-packages (from notebook~=5.2.0->google.colab) (4.9.1)\n",
      "Requirement already satisfied: pytz>=2011k in c:\\users\\jose\\appdata\\local\\programs\\python\\python37\\lib\\site-packages (from pandas~=0.24.0->google.colab) (2021.3)\n",
      "Requirement already satisfied: numpy>=1.12.0 in c:\\users\\jose\\appdata\\roaming\\python\\python37\\site-packages (from pandas~=0.24.0->google.colab) (1.21.5)\n",
      "Requirement already satisfied: python-dateutil>=2.5.0 in c:\\users\\jose\\appdata\\local\\programs\\python\\python37\\lib\\site-packages (from pandas~=0.24.0->google.colab) (2.8.2)\n",
      "Requirement already satisfied: certifi>=2017.4.17 in c:\\users\\jose\\appdata\\local\\programs\\python\\python37\\lib\\site-packages (from requests~=2.21.0->google.colab) (2021.10.8)\n",
      "Collecting idna<2.9,>=2.5\n",
      "  Downloading idna-2.8-py2.py3-none-any.whl (58 kB)\n",
      "     ---------------------------------------- 58.6/58.6 KB ? eta 0:00:00\n",
      "Collecting chardet<3.1.0,>=3.0.2\n",
      "  Downloading chardet-3.0.4-py2.py3-none-any.whl (133 kB)\n",
      "     -------------------------------------- 133.4/133.4 KB 7.7 MB/s eta 0:00:00\n",
      "Collecting urllib3<1.25,>=1.21.1\n",
      "  Downloading urllib3-1.24.3-py2.py3-none-any.whl (118 kB)\n",
      "     -------------------------------------- 118.8/118.8 KB 6.8 MB/s eta 0:00:00\n",
      "Requirement already satisfied: wcwidth in c:\\users\\jose\\appdata\\local\\programs\\python\\python37\\lib\\site-packages (from prompt-toolkit<2.0.0,>=1.0.4->ipython~=5.5.0->google.colab) (0.2.5)\n",
      "Requirement already satisfied: pyasn1<0.5.0,>=0.4.6 in c:\\users\\jose\\appdata\\local\\programs\\python\\python37\\lib\\site-packages (from pyasn1-modules>=0.2.1->google-auth~=1.4.0->google.colab) (0.4.8)\n",
      "Requirement already satisfied: MarkupSafe>=2.0 in c:\\users\\jose\\appdata\\local\\programs\\python\\python37\\lib\\site-packages (from jinja2->notebook~=5.2.0->google.colab) (2.0.1)\n",
      "Requirement already satisfied: entrypoints in c:\\users\\jose\\appdata\\local\\programs\\python\\python37\\lib\\site-packages (from jupyter-client->ipykernel~=4.6.0->google.colab) (0.3)\n",
      "Requirement already satisfied: pyzmq>=13 in c:\\users\\jose\\appdata\\local\\programs\\python\\python37\\lib\\site-packages (from jupyter-client->ipykernel~=4.6.0->google.colab) (22.3.0)\n",
      "Requirement already satisfied: nest-asyncio>=1.5 in c:\\users\\jose\\appdata\\local\\programs\\python\\python37\\lib\\site-packages (from jupyter-client->ipykernel~=4.6.0->google.colab) (1.5.1)\n",
      "Requirement already satisfied: pywin32>=1.0 in c:\\users\\jose\\appdata\\local\\programs\\python\\python37\\lib\\site-packages (from jupyter-core->notebook~=5.2.0->google.colab) (302)\n",
      "Requirement already satisfied: nbclient<0.6.0,>=0.5.0 in c:\\users\\jose\\appdata\\local\\programs\\python\\python37\\lib\\site-packages (from nbconvert->notebook~=5.2.0->google.colab) (0.5.9)\n",
      "Requirement already satisfied: bleach in c:\\users\\jose\\appdata\\local\\programs\\python\\python37\\lib\\site-packages (from nbconvert->notebook~=5.2.0->google.colab) (4.1.0)\n",
      "Requirement already satisfied: pandocfilters>=1.4.1 in c:\\users\\jose\\appdata\\local\\programs\\python\\python37\\lib\\site-packages (from nbconvert->notebook~=5.2.0->google.colab) (1.5.0)\n",
      "Requirement already satisfied: jupyterlab-pygments in c:\\users\\jose\\appdata\\local\\programs\\python\\python37\\lib\\site-packages (from nbconvert->notebook~=5.2.0->google.colab) (0.1.2)\n",
      "Requirement already satisfied: testpath in c:\\users\\jose\\appdata\\local\\programs\\python\\python37\\lib\\site-packages (from nbconvert->notebook~=5.2.0->google.colab) (0.5.0)\n",
      "Requirement already satisfied: mistune<2,>=0.8.1 in c:\\users\\jose\\appdata\\local\\programs\\python\\python37\\lib\\site-packages (from nbconvert->notebook~=5.2.0->google.colab) (0.8.4)\n",
      "Requirement already satisfied: defusedxml in c:\\users\\jose\\appdata\\local\\programs\\python\\python37\\lib\\site-packages (from nbconvert->notebook~=5.2.0->google.colab) (0.7.1)\n",
      "Requirement already satisfied: jsonschema!=2.5.0,>=2.4 in c:\\users\\jose\\appdata\\local\\programs\\python\\python37\\lib\\site-packages (from nbformat->notebook~=5.2.0->google.colab) (4.2.1)\n",
      "Requirement already satisfied: importlib-resources>=1.4.0 in c:\\users\\jose\\appdata\\local\\programs\\python\\python37\\lib\\site-packages (from jsonschema!=2.5.0,>=2.4->nbformat->notebook~=5.2.0->google.colab) (5.4.0)\n",
      "Requirement already satisfied: attrs>=17.4.0 in c:\\users\\jose\\appdata\\local\\programs\\python\\python37\\lib\\site-packages (from jsonschema!=2.5.0,>=2.4->nbformat->notebook~=5.2.0->google.colab) (21.2.0)\n",
      "Requirement already satisfied: pyrsistent!=0.17.0,!=0.17.1,!=0.17.2,>=0.14.0 in c:\\users\\jose\\appdata\\local\\programs\\python\\python37\\lib\\site-packages (from jsonschema!=2.5.0,>=2.4->nbformat->notebook~=5.2.0->google.colab) (0.18.0)\n",
      "Requirement already satisfied: importlib-metadata in c:\\users\\jose\\appdata\\local\\programs\\python\\python37\\lib\\site-packages (from jsonschema!=2.5.0,>=2.4->nbformat->notebook~=5.2.0->google.colab) (4.8.1)\n",
      "Requirement already satisfied: webencodings in c:\\users\\jose\\appdata\\local\\programs\\python\\python37\\lib\\site-packages (from bleach->nbconvert->notebook~=5.2.0->google.colab) (0.5.1)\n",
      "Requirement already satisfied: packaging in c:\\users\\jose\\appdata\\local\\programs\\python\\python37\\lib\\site-packages (from bleach->nbconvert->notebook~=5.2.0->google.colab) (21.3)\n",
      "Requirement already satisfied: zipp>=3.1.0 in c:\\users\\jose\\appdata\\local\\programs\\python\\python37\\lib\\site-packages (from importlib-resources>=1.4.0->jsonschema!=2.5.0,>=2.4->nbformat->notebook~=5.2.0->google.colab) (3.6.0)\n",
      "Requirement already satisfied: typing-extensions>=3.6.4 in c:\\users\\jose\\appdata\\local\\programs\\python\\python37\\lib\\site-packages (from importlib-metadata->jsonschema!=2.5.0,>=2.4->nbformat->notebook~=5.2.0->google.colab) (4.1.1)\n",
      "Requirement already satisfied: pyparsing!=3.0.5,>=2.0.2 in c:\\users\\jose\\appdata\\local\\programs\\python\\python37\\lib\\site-packages (from packaging->bleach->nbconvert->notebook~=5.2.0->google.colab) (2.4.7)\n",
      "Building wheels for collected packages: google.colab, portpicker, tornado, simplegeneric\n",
      "  Building wheel for google.colab (setup.py): started\n",
      "  Building wheel for google.colab (setup.py): finished with status 'done'\n",
      "  Created wheel for google.colab: filename=google_colab-1.0.0-py2.py3-none-any.whl size=102293 sha256=fb88badc607695a3c7f99aa9e9a77d0ffcac6f656c3589c127d6e72edd6c4515\n",
      "  Stored in directory: c:\\users\\jose\\appdata\\local\\pip\\cache\\wheels\\f6\\3b\\58\\f34ea9045a7c69bd5634978bf25ac60277e90997d9e6e74192\n",
      "  Building wheel for portpicker (setup.py): started\n",
      "  Building wheel for portpicker (setup.py): finished with status 'done'\n",
      "  Created wheel for portpicker: filename=portpicker-1.2.0-py3-none-any.whl size=13385 sha256=acf9db8a6ba4212de572973549677b957337d2713f245adb507305dc7ec139c9\n",
      "  Stored in directory: c:\\users\\jose\\appdata\\local\\pip\\cache\\wheels\\73\\0c\\f5\\35977446e45e818e6b848be3d41e7f38298a5102f4dcda21c6\n",
      "  Building wheel for tornado (setup.py): started\n",
      "  Building wheel for tornado (setup.py): finished with status 'done'\n",
      "  Created wheel for tornado: filename=tornado-4.5.3-cp37-cp37m-win_amd64.whl size=420786 sha256=9dcad52cd5f3fefcaeeadc0ce26c51f96ce5b4921787c0bf543687c2989c54c5\n",
      "  Stored in directory: c:\\users\\jose\\appdata\\local\\pip\\cache\\wheels\\a2\\45\\43\\36ec7a893e16c1212a6b1505ded0a2d73cf8e863a0227c8e04\n",
      "  Building wheel for simplegeneric (setup.py): started\n",
      "  Building wheel for simplegeneric (setup.py): finished with status 'done'\n",
      "  Created wheel for simplegeneric: filename=simplegeneric-0.8.1-py3-none-any.whl size=5077 sha256=fdfe7461d7f6fd0f927d55b9c61768bac28ded30452e2ac4b9042675481ee925\n",
      "  Stored in directory: c:\\users\\jose\\appdata\\local\\pip\\cache\\wheels\\90\\de\\df\\f1324f4dd966636ab877b82d467acad38a0998b1c42ddb7288\n",
      "Successfully built google.colab portpicker tornado simplegeneric\n",
      "Installing collected packages: tornado, simplegeneric, portpicker, chardet, urllib3, six, idna, requests, prompt-toolkit, google-auth, pandas, ipython, ipykernel, notebook, google.colab\n",
      "  Attempting uninstall: tornado\n",
      "    Found existing installation: tornado 6.1\n",
      "    Uninstalling tornado-6.1:\n",
      "      Successfully uninstalled tornado-6.1\n"
     ]
    },
    {
     "name": "stderr",
     "output_type": "stream",
     "text": [
      "ERROR: Could not install packages due to an OSError: [WinError 5] Acceso denegado: 'c:\\\\users\\\\jose\\\\appdata\\\\local\\\\programs\\\\python\\\\python37\\\\lib\\\\site-packages\\\\~ornado\\\\speedups.cp37-win_amd64.pyd'\n",
      "Consider using the `--user` option or check the permissions.\n",
      "\n"
     ]
    }
   ],
   "source": [
    "!pip install google.colab"
   ]
  },
  {
   "cell_type": "code",
   "execution_count": 4,
   "metadata": {
    "id": "4IAeCNOC2GAq"
   },
   "outputs": [],
   "source": [
    "import sys\n",
    "sys.path.append('/content/drive/My Drive/Colab Notebooks/LAB2-Session1')"
   ]
  },
  {
   "cell_type": "code",
   "execution_count": null,
   "metadata": {
    "id": "4TZ7VVvY97GL"
   },
   "outputs": [],
   "source": [
    "%cd /content/drive/My Drive/Colab Notebooks/LAB2-Session1/data"
   ]
  },
  {
   "cell_type": "code",
   "execution_count": null,
   "metadata": {
    "id": "ODqYSE5ofI7L"
   },
   "outputs": [],
   "source": [
    "!unzip -j UCF5.zip"
   ]
  },
  {
   "cell_type": "code",
   "execution_count": null,
   "metadata": {
    "id": "UtNjG9Bq729w"
   },
   "outputs": [],
   "source": [
    "!python3 '1_move_files.py'"
   ]
  },
  {
   "cell_type": "code",
   "execution_count": null,
   "metadata": {
    "id": "v8pvDjBA-mAX"
   },
   "outputs": [],
   "source": [
    "!python3 '2_extract_files.py'"
   ]
  },
  {
   "cell_type": "code",
   "execution_count": null,
   "metadata": {
    "id": "PiwVvVvOAZbc"
   },
   "outputs": [],
   "source": [
    "%cd /content/drive/My Drive/Colab Notebooks/LAB2-Session1"
   ]
  },
  {
   "cell_type": "code",
   "execution_count": null,
   "metadata": {
    "id": "LsL8Bt8oAdTf"
   },
   "outputs": [],
   "source": [
    "!python3 'random_vs_fixed_mode.py'"
   ]
  },
  {
   "cell_type": "markdown",
   "metadata": {
    "id": "Nrt39U_I7Ze5"
   },
   "source": []
  }
 ],
 "metadata": {
  "colab": {
   "name": "Session 1 Video Classification Baseline Random vs Fixed mode.ipynb",
   "provenance": []
  },
  "kernelspec": {
   "display_name": "Python 3 (ipykernel)",
   "language": "python",
   "name": "python3"
  },
  "language_info": {
   "codemirror_mode": {
    "name": "ipython",
    "version": 3
   },
   "file_extension": ".py",
   "mimetype": "text/x-python",
   "name": "python",
   "nbconvert_exporter": "python",
   "pygments_lexer": "ipython3",
   "version": "3.7.0"
  }
 },
 "nbformat": 4,
 "nbformat_minor": 1
}
